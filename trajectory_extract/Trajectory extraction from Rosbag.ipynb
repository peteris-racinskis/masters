{
 "cells": [
  {
   "cell_type": "markdown",
   "id": "873531db",
   "metadata": {},
   "source": [
    "## Trajectory extraction from Rosbag file\n",
    "\n"
   ]
  },
  {
   "cell_type": "markdown",
   "id": "d3c8723a",
   "metadata": {},
   "source": [
    "The goal of this script is to take a raw rosbag recording of a scene and partition out a set of discrete throw demonstrations."
   ]
  },
  {
   "cell_type": "code",
   "execution_count": 2,
   "id": "c6c0e786",
   "metadata": {},
   "outputs": [],
   "source": [
    "import numpy as np\n",
    "import pandas as pd"
   ]
  },
  {
   "cell_type": "markdown",
   "id": "613b5835",
   "metadata": {},
   "source": [
    "## Position interpolation, shared argument axis"
   ]
  },
  {
   "cell_type": "markdown",
   "id": "46896bc4",
   "metadata": {},
   "source": [
    "The goal of this section is producing time series data with all the relevant parameter values by interpolation."
   ]
  },
  {
   "cell_type": "markdown",
   "id": "40d315d9",
   "metadata": {},
   "source": [
    "## Gripper separation event detection"
   ]
  },
  {
   "cell_type": "markdown",
   "id": "ca1ef465",
   "metadata": {},
   "source": [
    "The goal of this section is to produce a timestamp "
   ]
  }
 ],
 "metadata": {
  "kernelspec": {
   "display_name": "Python 3 (ipykernel)",
   "language": "python",
   "name": "python3"
  },
  "language_info": {
   "codemirror_mode": {
    "name": "ipython",
    "version": 3
   },
   "file_extension": ".py",
   "mimetype": "text/x-python",
   "name": "python",
   "nbconvert_exporter": "python",
   "pygments_lexer": "ipython3",
   "version": "3.8.10"
  }
 },
 "nbformat": 4,
 "nbformat_minor": 5
}
